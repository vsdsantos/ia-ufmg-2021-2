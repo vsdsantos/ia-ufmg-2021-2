{
 "cells": [
  {
   "cell_type": "markdown",
   "id": "7ef50494-6d2d-4732-8e50-f5659caa9e78",
   "metadata": {},
   "source": [
    "The universe of the Game of Life is an infinite, two-dimensional orthogonal grid of square cells, each of which is in one of two possible states, live or dead, (or populated and unpopulated, respectively). Every cell interacts with its eight neighbours, which are the cells that are horizontally, vertically, or diagonally adjacent. At each step in time, the following transitions occur:\n",
    "\n",
    "1. Any live cell with fewer than two live neighbours dies, as if by underpopulation.\n",
    "2. Any live cell with two or three live neighbours lives on to the next generation.\n",
    "3. Any live cell with more than three live neighbours dies, as if by overpopulation.\n",
    "4. Any dead cell with exactly three live neighbours becomes a live cell, as if by reproduction.\n"
   ]
  },
  {
   "cell_type": "code",
   "execution_count": 1,
   "id": "8a9fdb3b-21bb-454d-b7f0-8dddb4d5bb93",
   "metadata": {},
   "outputs": [],
   "source": [
    "@enum State alive=1 dead=0"
   ]
  },
  {
   "cell_type": "code",
   "execution_count": 2,
   "id": "1c8bb970-108b-4e98-b858-eba96556924c",
   "metadata": {},
   "outputs": [],
   "source": [
    "mutable struct Cell\n",
    "    state::State\n",
    "end"
   ]
  },
  {
   "cell_type": "code",
   "execution_count": 3,
   "id": "64d34dc5-ede5-42c9-b9d8-0579bbe743db",
   "metadata": {},
   "outputs": [],
   "source": [
    "mutable struct Grid\n",
    "    cells::Matrix{<:Cell}\n",
    "    \n",
    "    Grid(cells) = new(cells)\n",
    "    Grid(m,n) = begin\n",
    "        cells = [Cell(rand_state()) for i=1:m, j=1:n]\n",
    "        new(cells)\n",
    "    end\n",
    "end"
   ]
  },
  {
   "cell_type": "code",
   "execution_count": 4,
   "id": "923489fe-6168-40b4-a6a7-b0a98de03186",
   "metadata": {},
   "outputs": [
    {
     "data": {
      "text/plain": [
       "step! (generic function with 1 method)"
      ]
     },
     "execution_count": 4,
     "metadata": {},
     "output_type": "execute_result"
    }
   ],
   "source": [
    "function step!(grid::Grid)\n",
    "    m, n = size(grid.cells)\n",
    "    new_cells = deepcopy(grid.cells)\n",
    "    for i=1:m, j=1:n\n",
    "        \n",
    "        cell = grid.cells[i, j]\n",
    "        nbr = neighbours(grid, i, j)\n",
    "        alives = sum([c.state == alive ? 1 : 0 for c in nbr])\n",
    "        deads = length(nbr) - alives\n",
    "        \n",
    "        new_state = cell.state\n",
    "        if cell.state == alive\n",
    "            if 2 > alives || alives > 3\n",
    "#                 print(\"DEAD\")\n",
    "                new_state = dead\n",
    "            else\n",
    "#                 print(\"SURVIVED\")\n",
    "                new_state = alive\n",
    "            end\n",
    "        else\n",
    "            if alives == 3\n",
    "#                 print(\"REBORN\")\n",
    "                new_state = alive\n",
    "            end\n",
    "        end\n",
    "        new_cells[i,j].state = new_state\n",
    "    end\n",
    "    grid.cells = new_cells\n",
    "end"
   ]
  },
  {
   "cell_type": "code",
   "execution_count": 5,
   "id": "9e5752b3-9911-4050-9e5c-26b577ddbe09",
   "metadata": {},
   "outputs": [
    {
     "data": {
      "text/plain": [
       "print_grid (generic function with 1 method)"
      ]
     },
     "execution_count": 5,
     "metadata": {},
     "output_type": "execute_result"
    }
   ],
   "source": [
    "function print_grid(grid::Grid)\n",
    "    m, n = size(grid.cells)\n",
    "    [Integer(grid.cells[i,j].state) for i=1:m, j=1:n]\n",
    "end"
   ]
  },
  {
   "cell_type": "code",
   "execution_count": 6,
   "id": "3ff012de-bdbb-4d1c-963e-cca5954bee23",
   "metadata": {},
   "outputs": [
    {
     "data": {
      "text/plain": [
       "neighbours (generic function with 1 method)"
      ]
     },
     "execution_count": 6,
     "metadata": {},
     "output_type": "execute_result"
    }
   ],
   "source": [
    "function neighbours(grid::Grid, i, j)\n",
    "    m, n = size(grid.cells)\n",
    "    \n",
    "    if i == 1\n",
    "        a_vec = [i i+1]\n",
    "    elseif i == m\n",
    "        a_vec = [m-1 m]\n",
    "    else\n",
    "        a_vec = [i-1 i i+1]\n",
    "    end\n",
    "    \n",
    "    if j == 1 \n",
    "        b_vec = [j j+1]\n",
    "    elseif j == n\n",
    "        b_vec = [n-1 n]\n",
    "    else\n",
    "        b_vec = [j-1 j j+1]\n",
    "    end\n",
    "    \n",
    "    lst = vcat(collect(Base.product(a_vec, b_vec))...)\n",
    "    filter!(e->e ≠ (i,j), lst)\n",
    "    [grid.cells[i,j] for (i,j) in lst]\n",
    "end"
   ]
  },
  {
   "cell_type": "code",
   "execution_count": 7,
   "id": "5befb1d5-ce03-4e5d-a669-20a5ff39053c",
   "metadata": {},
   "outputs": [],
   "source": [
    "using Images: Gray"
   ]
  },
  {
   "cell_type": "code",
   "execution_count": 12,
   "id": "648c6dc0-8c95-4229-9b86-614fd84b07f2",
   "metadata": {},
   "outputs": [
    {
     "data": {
      "image/png": "[encoded data removed]",
      "text/plain": [
       "50×50 Array{Gray{N0f8},2} with eltype Gray{FixedPointNumbers.N0f8}:\n",
       " Gray{N0f8}(0.0)  Gray{N0f8}(0.0)  …  Gray{N0f8}(0.0)  Gray{N0f8}(0.0)\n",
       " Gray{N0f8}(0.0)  Gray{N0f8}(0.0)     Gray{N0f8}(0.0)  Gray{N0f8}(0.0)\n",
       " Gray{N0f8}(0.0)  Gray{N0f8}(0.0)     Gray{N0f8}(0.0)  Gray{N0f8}(0.0)\n",
       " Gray{N0f8}(0.0)  Gray{N0f8}(0.0)     Gray{N0f8}(0.0)  Gray{N0f8}(0.0)\n",
       " Gray{N0f8}(0.0)  Gray{N0f8}(0.0)     Gray{N0f8}(0.0)  Gray{N0f8}(0.0)\n",
       " Gray{N0f8}(0.0)  Gray{N0f8}(0.0)  …  Gray{N0f8}(0.0)  Gray{N0f8}(0.0)\n",
       " Gray{N0f8}(0.0)  Gray{N0f8}(0.0)     Gray{N0f8}(0.0)  Gray{N0f8}(0.0)\n",
       " Gray{N0f8}(0.0)  Gray{N0f8}(0.0)     Gray{N0f8}(0.0)  Gray{N0f8}(0.0)\n",
       " Gray{N0f8}(0.0)  Gray{N0f8}(0.0)     Gray{N0f8}(0.0)  Gray{N0f8}(0.0)\n",
       " Gray{N0f8}(0.0)  Gray{N0f8}(0.0)     Gray{N0f8}(0.0)  Gray{N0f8}(0.0)\n",
       " Gray{N0f8}(0.0)  Gray{N0f8}(0.0)  …  Gray{N0f8}(0.0)  Gray{N0f8}(0.0)\n",
       " Gray{N0f8}(0.0)  Gray{N0f8}(0.0)     Gray{N0f8}(0.0)  Gray{N0f8}(0.0)\n",
       " Gray{N0f8}(0.0)  Gray{N0f8}(0.0)     Gray{N0f8}(0.0)  Gray{N0f8}(0.0)\n",
       " ⋮                                 ⋱                   \n",
       " Gray{N0f8}(0.0)  Gray{N0f8}(0.0)     Gray{N0f8}(0.0)  Gray{N0f8}(0.0)\n",
       " Gray{N0f8}(0.0)  Gray{N0f8}(0.0)     Gray{N0f8}(1.0)  Gray{N0f8}(1.0)\n",
       " Gray{N0f8}(0.0)  Gray{N0f8}(0.0)  …  Gray{N0f8}(1.0)  Gray{N0f8}(1.0)\n",
       " Gray{N0f8}(0.0)  Gray{N0f8}(0.0)     Gray{N0f8}(0.0)  Gray{N0f8}(0.0)\n",
       " Gray{N0f8}(0.0)  Gray{N0f8}(0.0)     Gray{N0f8}(1.0)  Gray{N0f8}(1.0)\n",
       " Gray{N0f8}(0.0)  Gray{N0f8}(0.0)     Gray{N0f8}(1.0)  Gray{N0f8}(1.0)\n",
       " Gray{N0f8}(0.0)  Gray{N0f8}(0.0)     Gray{N0f8}(0.0)  Gray{N0f8}(0.0)\n",
       " Gray{N0f8}(0.0)  Gray{N0f8}(0.0)  …  Gray{N0f8}(0.0)  Gray{N0f8}(0.0)\n",
       " Gray{N0f8}(0.0)  Gray{N0f8}(0.0)     Gray{N0f8}(0.0)  Gray{N0f8}(0.0)\n",
       " Gray{N0f8}(0.0)  Gray{N0f8}(0.0)     Gray{N0f8}(0.0)  Gray{N0f8}(0.0)\n",
       " Gray{N0f8}(0.0)  Gray{N0f8}(0.0)     Gray{N0f8}(0.0)  Gray{N0f8}(0.0)\n",
       " Gray{N0f8}(0.0)  Gray{N0f8}(0.0)     Gray{N0f8}(0.0)  Gray{N0f8}(0.0)"
      ]
     },
     "metadata": {},
     "output_type": "display_data"
    }
   ],
   "source": [
    "# g = Grid(Cell.(\n",
    "#         [dead dead dead dead dead\n",
    "#          dead dead alive dead dead\n",
    "#          dead dead alive dead dead\n",
    "#          dead dead alive dead dead\n",
    "#          dead dead dead dead dead\n",
    "#         ]))\n",
    "\n",
    "g = Grid(50, 50)\n",
    "for i = 1:1000\n",
    "    step!(g)\n",
    "    IJulia.clear_output(true)\n",
    "    display(Gray.(print_grid(g)))\n",
    "    sleep(0.1)\n",
    "end"
   ]
  },
  {
   "cell_type": "code",
   "execution_count": 10,
   "id": "c2668153-7624-4595-b290-796e4e010e8e",
   "metadata": {},
   "outputs": [
    {
     "data": {
      "text/plain": [
       "rand_state (generic function with 1 method)"
      ]
     },
     "execution_count": 10,
     "metadata": {},
     "output_type": "execute_result"
    }
   ],
   "source": [
    "function rand_state()\n",
    "    rand() > .5 ? alive : dead\n",
    "end"
   ]
  },
  {
   "cell_type": "code",
   "execution_count": null,
   "id": "3b63887e-bfcb-4fc4-a8c8-f312052d293f",
   "metadata": {},
   "outputs": [],
   "source": []
  }
 ],
 "metadata": {
  "kernelspec": {
   "display_name": "Julia 1.6.1",
   "language": "julia",
   "name": "julia-1.6"
  },
  "language_info": {
   "file_extension": ".jl",
   "mimetype": "application/julia",
   "name": "julia",
   "version": "1.6.1"
  }
 },
 "nbformat": 4,
 "nbformat_minor": 5
}
